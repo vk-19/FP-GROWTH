{
  "nbformat": 4,
  "nbformat_minor": 0,
  "metadata": {
    "colab": {
      "name": "FP-growth.ipynb",
      "provenance": [],
      "collapsed_sections": [],
      "toc_visible": true
    },
    "kernelspec": {
      "name": "python3",
      "display_name": "Python 3"
    }
  },
  "cells": [
    {
      "cell_type": "code",
      "metadata": {
        "id": "f94T47SGg44w"
      },
      "source": [
        "from collections import OrderedDict\n",
        "from pprint import pprint\n",
        "from math import ceil\n",
        "from itertools import  combinations\n",
        "import pandas as pd"
      ],
      "execution_count": null,
      "outputs": []
    },
    {
      "cell_type": "markdown",
      "metadata": {
        "id": "lrMAohvYh9c6"
      },
      "source": [
        "# Group members\n",
        "\n",
        "\n",
        "Irfan Sheikh\n",
        "\n",
        "Nishant Yadav\n",
        "\n",
        "Vineet Kumar\n",
        "\n",
        "\n"
      ]
    },
    {
      "cell_type": "markdown",
      "metadata": {
        "id": "Z3luuwZYnrpq"
      },
      "source": [
        "# FP-growth algorithm\n",
        "Discovering frequent itemsets without candidate generation.\n",
        "\n",
        "**Input**\n",
        "* `D` : transaction database containing `N` transactions.\n",
        "* `min_sup` : minimum support threshold in percentage\n",
        "\n",
        "**Output**\n",
        "* The complete set of frequent patterns."
      ]
    },
    {
      "cell_type": "markdown",
      "metadata": {
        "id": "sqMJnV3cocUS"
      },
      "source": [
        "## Construction of FP-tree\n",
        "\n",
        "This takes only **two** scans of the database.\n",
        "\n",
        "\n",
        "1. In the first scan, derive the set of frequent items (1-itemsets) and their support counts (frequencies), and, sort it in nonincreasing order of support count to obtain `L`. This is implemented in the `derive_L` function which returns `L`.\n",
        "\n",
        "2. In the second scan, we create the root of FP-tree, and process the items in each transaction in `L`-order to create the branches of the tree. This is implemented in the `generate_FP_tree` function."
      ]
    },
    {
      "cell_type": "markdown",
      "metadata": {
        "id": "qwI8rbo68GIB"
      },
      "source": [
        "### Deriving L"
      ]
    },
    {
      "cell_type": "code",
      "metadata": {
        "id": "cIk7g4rr4r0m"
      },
      "source": [
        "def derive_L(D_items):\n",
        "  # We maintain a dictionary to store the support counts and node links of each frequent item.\n",
        "  # The dictionary is indexed by the item ID.\n",
        "\n",
        "  item_scn = dict()\n",
        "\n",
        "  for i, trans in D_items.items():\n",
        "      t_items = list(set(trans.split(',')))\n",
        "\n",
        "      for item in t_items:\n",
        "          if item not in item_scn:\n",
        "              item_scn[item] = {'sc' : 1, 'node_link' : []}\n",
        "          else:\n",
        "              item_scn[item]['sc'] += 1\n",
        "\n",
        "  # remove items with support count < min_sup_count to obtain frequent 1-itemsets, F\n",
        "  F = { k : v for k, v in item_scn.items() if v['sc'] >= min_sup_count}\n",
        "\n",
        "  # sort in nonincreasing order of support count to obtain L\n",
        "  L = OrderedDict(sorted(F.items(),\n",
        "                        key=lambda kv: kv[1]['sc'],\n",
        "                        reverse=True))\n",
        "  return L"
      ],
      "execution_count": null,
      "outputs": []
    },
    {
      "cell_type": "markdown",
      "metadata": {
        "id": "tFeeJd_qqtPs"
      },
      "source": [
        "### Constructing the actual FP-tree"
      ]
    },
    {
      "cell_type": "code",
      "metadata": {
        "id": "uDj0wqQN38jC"
      },
      "source": [
        "class Node:\n",
        "  def __init__(self, item_name, parent, count = 1):\n",
        "    self.item_name = item_name\n",
        "    self.parent = parent\n",
        "    self.children = []\n",
        "    self.count = count\n",
        "\n",
        "# p_P -> transaction itemset\n",
        "# T -> FP tree\n",
        "# L -> frequent 1-itemset\n",
        "def insert_tree(p_P, T, L):\n",
        "  if p_P == []:\n",
        "    return\n",
        "\n",
        "  p = p_P[0]\n",
        "  p_P.pop(0)\n",
        "  P = p_P\n",
        "\n",
        "  N = None\n",
        "  child_present = False\n",
        "  for child in T.children:\n",
        "    if child.item_name == p:\n",
        "      child.count += 1\n",
        "      child_present = True\n",
        "      N = child\n",
        "      break\n",
        "\n",
        "  if not child_present:\n",
        "    N = Node(p, T)\n",
        "    L[N.item_name]['node_link'].append(N)\n",
        "    T.children.append(N)\n",
        "\n",
        "  insert_tree(P, N, L)\n",
        "\n",
        "\n",
        "def generate_FP_tree(D_items, L):\n",
        "\n",
        "  T = Node(\"null\", None)\n",
        "\n",
        "  for i, trans in D_items.items():\n",
        "    \n",
        "    # sort the transaction in L-order\n",
        "    trans = trans.split(',')\n",
        "\n",
        "    # select only the items that are in L - i.e., are frequent\n",
        "    trans = [item for item in trans if item in L]\n",
        "    trans = list(set(trans))\n",
        "    \n",
        "    # sort these items in L-order\n",
        "    trans.sort(key=lambda item: L[item]['sc'], reverse=True)\n",
        "\n",
        "    \"\"\"\n",
        "     trans = [p|P], p is the first element and P is the remaining list\n",
        "     Call insert_tree([p|P], T).\n",
        "     If T has a child N such that N.item-name = p.item-name:\n",
        "       increment N’s count by 1;\n",
        "     else:\n",
        "       create a new node N, and let its count be 1,\n",
        "       link its parent link to T, and\n",
        "       link its node-link to the nodes with the same item-name via the node-link structure.\n",
        "     If P is nonempty, call insert tree(P, N) recursively.\n",
        "    \"\"\"\n",
        "    insert_tree(trans, T, L)\n",
        "  return T\n",
        "\n",
        "def print_tree(T):\n",
        "    if (T == []):\n",
        "        return\n",
        "    Q = [T]\n",
        "    \n",
        "    while (Q != []):\n",
        "        n = len(Q)\n",
        "        while (n > 0):\n",
        "            node = Q.pop(0)\n",
        "            if (node.parent != None):\n",
        "              print(f'{node.item_name}: {node.count} ({node.parent.item_name})', end=\"  \")\n",
        "            else:\n",
        "              print(f'{node.item_name}: {node.count}', end=\"  \")\n",
        "            for child in node.children:\n",
        "                Q.append(child)\n",
        "            n -= 1;\n",
        "        print()\n"
      ],
      "execution_count": null,
      "outputs": []
    },
    {
      "cell_type": "markdown",
      "metadata": {
        "id": "v4GMA6Y9rGx6"
      },
      "source": [
        "## Mining the FP-tree\n",
        "\n",
        "Now, we generate the frequent patterns using the FP-tree that we generated. This is implemented in the `mine_FP_tree` function."
      ]
    },
    {
      "cell_type": "code",
      "metadata": {
        "id": "-7QSJntorHVr"
      },
      "source": [
        "\"\"\"\n",
        "generate_conditional_pattern_base returns conditional pattern base for the item 'i'.\n",
        "Input:\n",
        "1. T : FP Tree\n",
        "2. L : frequent 1-itemsets with their nodelinks\n",
        "3. i : item for which we need to find conditional pattern base\n",
        "\n",
        "Output:\n",
        "1. result, a list of all the conditional patterns i.e. all the paths in the FP-tree that goes from item 'i' to root node\n",
        "2. item_sc, support count of all the items that occur in the conditional pattern base of item 'i'\n",
        "\"\"\"\n",
        "def generate_conditional_pattern_base(T, L, i):\n",
        "  result = []\n",
        "  link = L[i]['node_link']\n",
        "  item_sc = {}\n",
        "  for node in link:\n",
        "    path = []\n",
        "    temp = node.parent\n",
        "    sc = node.count\n",
        "    while temp.item_name != \"null\":\n",
        "\n",
        "      if temp.item_name in item_sc.keys():\n",
        "        item_sc[temp.item_name] += sc\n",
        "      else:\n",
        "        item_sc[temp.item_name] = sc\n",
        "\n",
        "      path.insert(0, (temp.item_name, sc))\n",
        "      temp = temp.parent\n",
        "\n",
        "    if path:\n",
        "      result.append(path)\n",
        "  \n",
        "  return result, item_sc\n",
        "\n",
        "\n",
        "\"\"\"\n",
        "generate_conditional_FP_tree generates conditional the FP tree given conditonal\n",
        "pattern base of item 'i'.\n",
        "Input:\n",
        "CPB : conditional pattern base\n",
        "item_sc : the support counts of items occuring in the CPB\n",
        "\n",
        "Output:\n",
        "C_FP_Tree, the list of all the paths in the conditional FP tree\n",
        "\"\"\"\n",
        "def generate_conditional_FP_tree(L, i, CPB, item_sc, min_sup):\n",
        "\n",
        "  #inner function\n",
        "  # generates all the paths in the conditional FP tree\n",
        "   def get_path(T, path):\n",
        "    for child in T.children:\n",
        "      path.append((child.item_name, child.count))\n",
        "      get_path(child, path)\n",
        "   \n",
        "    if path and T.children == []:\n",
        "      C_FP_tree.append(path.copy())\n",
        " \n",
        "    if path:\n",
        "      path.pop()\n",
        "\n",
        "  #inner function\n",
        "  # insert a conditional pattern 'p_P' in the conditional FP tree\n",
        "   def insert_tree(p_P, T, i = 0):\n",
        "     if i == len(p_P):\n",
        "       return\n",
        "   \n",
        "     p, sc = p_P[i]\n",
        "     while item_sc[p] < min_sup:\n",
        "       i += 1\n",
        "       if i < len(p_P):\n",
        "          p, sc = p_P[i]\n",
        "       else:\n",
        "         break\n",
        "      \n",
        "\n",
        "     if i == len(p_P):\n",
        "       return\n",
        "\n",
        "     N = None\n",
        "     child_present = False\n",
        "     for child in T.children:\n",
        "       if child.item_name == p:\n",
        "         child.count += sc\n",
        "         child_present = True\n",
        "         N = child\n",
        "         break\n",
        "\n",
        "     if not child_present:\n",
        "       N = Node(p, T, sc)\n",
        "       T.children.append(N)\n",
        "\n",
        "     insert_tree(p_P, N, i+1)\n",
        "\n",
        "  \n",
        "\n",
        "   T = Node(\"null\", None)\n",
        "  # inserting all the patterns in CPB in conditional FP tree\n",
        "   for pattern in CPB:\n",
        "     insert_tree(pattern, T)\n",
        "\n",
        "   C_FP_tree = []\n",
        "   path = []\n",
        "   get_path(T, path)\n",
        "\n",
        "   return C_FP_tree\n",
        "\n",
        "# generates all the frequent patterns given all the paths in conditional FP tree of the item 'item'\n",
        "def generate_frequent_patterns(paths, item):\n",
        "  fp = []\n",
        "  sc = []\n",
        "  for path in paths:\n",
        "    for i in range(1, len(path) + 1):\n",
        "      for comb in combinations(path, i):\n",
        "        x = [i for i, j in comb]\n",
        "        x.append(item)\n",
        "        \n",
        "        y = [j for i, j in comb]\n",
        "\n",
        "        temp = min(y)\n",
        "\n",
        "        if x in fp:\n",
        "          ind = fp.index(x)\n",
        "          sc[ind] += temp\n",
        "        else:\n",
        "          fp.append(x.copy())\n",
        "          sc.append(temp)\n",
        "  return fp, sc\n",
        "\n",
        "\"\"\"\n",
        "mine_FP_tree mines the FP tree.\n",
        "Input:\n",
        "1. L : frequent 1-itemset\n",
        "2. T : FP tree\n",
        "3. min_sup_count\n",
        "\n",
        "Output:\n",
        "1. The conditional pattern bases\n",
        "2. The condition FP trees.\n",
        "3. The frequent patterns.\n",
        "\"\"\"\n",
        "def mine_FP_tree(L, T, min_sup_count):\n",
        "  data_CPB = []\n",
        "  data_CFP_tree = []\n",
        "  data_FP_patterns = []\n",
        "\n",
        "  for item in L:\n",
        "    # print(item)\n",
        "    CPB, item_sc = generate_conditional_pattern_base(T, L, item)\n",
        "\n",
        "    # print(\"conditional pattern base:\")\n",
        "    paths = generate_conditional_FP_tree(L, item, CPB, item_sc, min_sup_count)\n",
        "    fp, sc = generate_frequent_patterns(paths, item)\n",
        "\n",
        "    gather_data(data_CPB, data_CFP_tree, data_FP_patterns, item, CPB, paths, fp, sc)\n",
        "\n",
        "  return create_dataframes(data_CPB, data_CFP_tree, data_FP_patterns)\n",
        "\n",
        "def gather_data(data_CPB, data_CFP_tree, data_FP_patterns, item, CPB, paths, fp, _sc):\n",
        "  x = 1\n",
        "  for pattern in CPB:\n",
        "    temp = [i for i, j in pattern]\n",
        "    sc = pattern[0][1]\n",
        "    data_CPB.append([item, x, temp, sc])\n",
        "    x += 1\n",
        "\n",
        "  x = 1\n",
        "  for path in paths:\n",
        "    data_CFP_tree.append([item, x, path])\n",
        "    x += 1\n",
        "\n",
        "  x = 1\n",
        "  for i in range(len(fp)):\n",
        "    data_FP_patterns.append([item, x, fp[i], _sc[i]])\n",
        "    x += 1\n",
        "\n",
        "def create_dataframes(data_CPB, data_CFP_tree, data_FP_patterns):\n",
        "  df1 = pd.DataFrame(data_CPB, columns=['item', 'p_num', 'pattern', 'sc'])\n",
        "  df1.set_index(['item', 'p_num'], inplace = True)\n",
        "\n",
        "  df2 = pd.DataFrame(data_CFP_tree, columns = ['item', 'p_num', 'path'])\n",
        "  df2.set_index(['item', 'p_num'], inplace = True)\n",
        "\n",
        "  df3 = pd.DataFrame(data_FP_patterns, columns= ['item', 'p_num', 'frequent pattern', 'support count'])\n",
        "  df3.set_index(['item', 'p_num'], inplace = True)\n",
        "  return df1, df2, df3"
      ],
      "execution_count": null,
      "outputs": []
    },
    {
      "cell_type": "markdown",
      "metadata": {
        "id": "BLLw5EAN5t52"
      },
      "source": [
        "# Running the FP-growth algorithm on a dataset\n"
      ]
    },
    {
      "cell_type": "code",
      "metadata": {
        "colab": {
          "base_uri": "https://localhost:8080/",
          "height": 332
        },
        "id": "kKCw0-qb52LT",
        "outputId": "60acf9bf-4ebe-4540-d388-662be2f0c50d"
      },
      "source": [
        "D = pd.read_csv('https://raw.githubusercontent.com/genericSpecimen/college-work/master/data-mining/python/transactions-data.tsv', sep='\\t')\n",
        "N = len(D)\n",
        "\n",
        "min_sup = 22 # %age\n",
        "min_sup_count = ceil(min_sup / 100 * N)\n",
        "\n",
        "D"
      ],
      "execution_count": null,
      "outputs": [
        {
          "output_type": "execute_result",
          "data": {
            "text/html": [
              "<div>\n",
              "<style scoped>\n",
              "    .dataframe tbody tr th:only-of-type {\n",
              "        vertical-align: middle;\n",
              "    }\n",
              "\n",
              "    .dataframe tbody tr th {\n",
              "        vertical-align: top;\n",
              "    }\n",
              "\n",
              "    .dataframe thead th {\n",
              "        text-align: right;\n",
              "    }\n",
              "</style>\n",
              "<table border=\"1\" class=\"dataframe\">\n",
              "  <thead>\n",
              "    <tr style=\"text-align: right;\">\n",
              "      <th></th>\n",
              "      <th>TID</th>\n",
              "      <th>Item_IDs</th>\n",
              "    </tr>\n",
              "  </thead>\n",
              "  <tbody>\n",
              "    <tr>\n",
              "      <th>0</th>\n",
              "      <td>T100</td>\n",
              "      <td>I1,I2,I5</td>\n",
              "    </tr>\n",
              "    <tr>\n",
              "      <th>1</th>\n",
              "      <td>T200</td>\n",
              "      <td>I2,I4</td>\n",
              "    </tr>\n",
              "    <tr>\n",
              "      <th>2</th>\n",
              "      <td>T300</td>\n",
              "      <td>I2,I3</td>\n",
              "    </tr>\n",
              "    <tr>\n",
              "      <th>3</th>\n",
              "      <td>T400</td>\n",
              "      <td>I1,I2,I4</td>\n",
              "    </tr>\n",
              "    <tr>\n",
              "      <th>4</th>\n",
              "      <td>T500</td>\n",
              "      <td>I1,I3</td>\n",
              "    </tr>\n",
              "    <tr>\n",
              "      <th>5</th>\n",
              "      <td>T600</td>\n",
              "      <td>I2,I3</td>\n",
              "    </tr>\n",
              "    <tr>\n",
              "      <th>6</th>\n",
              "      <td>T700</td>\n",
              "      <td>I1,I3</td>\n",
              "    </tr>\n",
              "    <tr>\n",
              "      <th>7</th>\n",
              "      <td>T800</td>\n",
              "      <td>I1,I2,I3,I5</td>\n",
              "    </tr>\n",
              "    <tr>\n",
              "      <th>8</th>\n",
              "      <td>T900</td>\n",
              "      <td>I1,I2,I3</td>\n",
              "    </tr>\n",
              "  </tbody>\n",
              "</table>\n",
              "</div>"
            ],
            "text/plain": [
              "    TID     Item_IDs\n",
              "0  T100     I1,I2,I5\n",
              "1  T200        I2,I4\n",
              "2  T300        I2,I3\n",
              "3  T400     I1,I2,I4\n",
              "4  T500        I1,I3\n",
              "5  T600        I2,I3\n",
              "6  T700        I1,I3\n",
              "7  T800  I1,I2,I3,I5\n",
              "8  T900     I1,I2,I3"
            ]
          },
          "metadata": {
            "tags": []
          },
          "execution_count": 5
        }
      ]
    },
    {
      "cell_type": "markdown",
      "metadata": {
        "id": "uAzsJhHp3znI"
      },
      "source": [
        "**DERIVING FREQUENT-1 ITEMSETS**"
      ]
    },
    {
      "cell_type": "code",
      "metadata": {
        "colab": {
          "base_uri": "https://localhost:8080/"
        },
        "id": "tDLBUu9N56uo",
        "outputId": "aba0decc-4fb9-44f2-98b6-41e5178829c4"
      },
      "source": [
        "L = derive_L(D['Item_IDs'])\n",
        "pprint(L)"
      ],
      "execution_count": null,
      "outputs": [
        {
          "output_type": "stream",
          "text": [
            "OrderedDict([('I2', {'node_link': [], 'sc': 7}),\n",
            "             ('I1', {'node_link': [], 'sc': 6}),\n",
            "             ('I3', {'node_link': [], 'sc': 6}),\n",
            "             ('I5', {'node_link': [], 'sc': 2}),\n",
            "             ('I4', {'node_link': [], 'sc': 2})])\n"
          ],
          "name": "stdout"
        }
      ]
    },
    {
      "cell_type": "markdown",
      "metadata": {
        "id": "MH1Ee77d39o3"
      },
      "source": [
        "**GENERATING FP-TREE**"
      ]
    },
    {
      "cell_type": "code",
      "metadata": {
        "colab": {
          "base_uri": "https://localhost:8080/"
        },
        "id": "-nS5r9BU4DeH",
        "outputId": "25944121-fee0-456a-f8d4-182d35c33cc9"
      },
      "source": [
        "T = generate_FP_tree(D['Item_IDs'], L)\n",
        "\n",
        "# (.) denotes parent\n",
        "print_tree(T)"
      ],
      "execution_count": null,
      "outputs": [
        {
          "output_type": "stream",
          "text": [
            "null: 1  \n",
            "I2: 7 (null)  I3: 2 (null)  \n",
            "I1: 2 (I2)  I4: 1 (I2)  I3: 4 (I2)  I1: 2 (I3)  \n",
            "I5: 1 (I1)  I4: 1 (I1)  I1: 2 (I3)  \n",
            "I5: 1 (I1)  \n"
          ],
          "name": "stdout"
        }
      ]
    },
    {
      "cell_type": "markdown",
      "metadata": {
        "id": "1t2xShyB4IrZ"
      },
      "source": [
        "**MINING FP-TREE**"
      ]
    },
    {
      "cell_type": "code",
      "metadata": {
        "id": "v43jb6PC4ibL"
      },
      "source": [
        "df1, df2, df3 = mine_FP_tree(L, T, min_sup_count)"
      ],
      "execution_count": null,
      "outputs": []
    },
    {
      "cell_type": "code",
      "metadata": {
        "id": "sayqz2Me6Uj1",
        "colab": {
          "base_uri": "https://localhost:8080/",
          "height": 349
        },
        "outputId": "ce559247-a126-4178-8945-9a26a484e7d2"
      },
      "source": [
        "print('Conditional pattern base')\n",
        "df1"
      ],
      "execution_count": null,
      "outputs": [
        {
          "output_type": "stream",
          "text": [
            "Conditional pattern base\n"
          ],
          "name": "stdout"
        },
        {
          "output_type": "execute_result",
          "data": {
            "text/html": [
              "<div>\n",
              "<style scoped>\n",
              "    .dataframe tbody tr th:only-of-type {\n",
              "        vertical-align: middle;\n",
              "    }\n",
              "\n",
              "    .dataframe tbody tr th {\n",
              "        vertical-align: top;\n",
              "    }\n",
              "\n",
              "    .dataframe thead th {\n",
              "        text-align: right;\n",
              "    }\n",
              "</style>\n",
              "<table border=\"1\" class=\"dataframe\">\n",
              "  <thead>\n",
              "    <tr style=\"text-align: right;\">\n",
              "      <th></th>\n",
              "      <th></th>\n",
              "      <th>pattern</th>\n",
              "      <th>sc</th>\n",
              "    </tr>\n",
              "    <tr>\n",
              "      <th>item</th>\n",
              "      <th>p_num</th>\n",
              "      <th></th>\n",
              "      <th></th>\n",
              "    </tr>\n",
              "  </thead>\n",
              "  <tbody>\n",
              "    <tr>\n",
              "      <th rowspan=\"3\" valign=\"top\">I1</th>\n",
              "      <th>1</th>\n",
              "      <td>[I2]</td>\n",
              "      <td>2</td>\n",
              "    </tr>\n",
              "    <tr>\n",
              "      <th>2</th>\n",
              "      <td>[I3]</td>\n",
              "      <td>2</td>\n",
              "    </tr>\n",
              "    <tr>\n",
              "      <th>3</th>\n",
              "      <td>[I2, I3]</td>\n",
              "      <td>2</td>\n",
              "    </tr>\n",
              "    <tr>\n",
              "      <th>I3</th>\n",
              "      <th>1</th>\n",
              "      <td>[I2]</td>\n",
              "      <td>4</td>\n",
              "    </tr>\n",
              "    <tr>\n",
              "      <th rowspan=\"2\" valign=\"top\">I5</th>\n",
              "      <th>1</th>\n",
              "      <td>[I2, I1]</td>\n",
              "      <td>1</td>\n",
              "    </tr>\n",
              "    <tr>\n",
              "      <th>2</th>\n",
              "      <td>[I2, I3, I1]</td>\n",
              "      <td>1</td>\n",
              "    </tr>\n",
              "    <tr>\n",
              "      <th rowspan=\"2\" valign=\"top\">I4</th>\n",
              "      <th>1</th>\n",
              "      <td>[I2]</td>\n",
              "      <td>1</td>\n",
              "    </tr>\n",
              "    <tr>\n",
              "      <th>2</th>\n",
              "      <td>[I2, I1]</td>\n",
              "      <td>1</td>\n",
              "    </tr>\n",
              "  </tbody>\n",
              "</table>\n",
              "</div>"
            ],
            "text/plain": [
              "                 pattern  sc\n",
              "item p_num                  \n",
              "I1   1              [I2]   2\n",
              "     2              [I3]   2\n",
              "     3          [I2, I3]   2\n",
              "I3   1              [I2]   4\n",
              "I5   1          [I2, I1]   1\n",
              "     2      [I2, I3, I1]   1\n",
              "I4   1              [I2]   1\n",
              "     2          [I2, I1]   1"
            ]
          },
          "metadata": {
            "tags": []
          },
          "execution_count": 9
        }
      ]
    },
    {
      "cell_type": "code",
      "metadata": {
        "colab": {
          "base_uri": "https://localhost:8080/",
          "height": 255
        },
        "id": "O4WnP4molChZ",
        "outputId": "40949cae-c826-4af1-fcd7-b89dfe99ff3b"
      },
      "source": [
        "print('Conditional FP tree')\n",
        "df2"
      ],
      "execution_count": null,
      "outputs": [
        {
          "output_type": "stream",
          "text": [
            "Conditional FP tree\n"
          ],
          "name": "stdout"
        },
        {
          "output_type": "execute_result",
          "data": {
            "text/html": [
              "<div>\n",
              "<style scoped>\n",
              "    .dataframe tbody tr th:only-of-type {\n",
              "        vertical-align: middle;\n",
              "    }\n",
              "\n",
              "    .dataframe tbody tr th {\n",
              "        vertical-align: top;\n",
              "    }\n",
              "\n",
              "    .dataframe thead th {\n",
              "        text-align: right;\n",
              "    }\n",
              "</style>\n",
              "<table border=\"1\" class=\"dataframe\">\n",
              "  <thead>\n",
              "    <tr style=\"text-align: right;\">\n",
              "      <th></th>\n",
              "      <th></th>\n",
              "      <th>path</th>\n",
              "    </tr>\n",
              "    <tr>\n",
              "      <th>item</th>\n",
              "      <th>p_num</th>\n",
              "      <th></th>\n",
              "    </tr>\n",
              "  </thead>\n",
              "  <tbody>\n",
              "    <tr>\n",
              "      <th rowspan=\"2\" valign=\"top\">I1</th>\n",
              "      <th>1</th>\n",
              "      <td>[(I2, 4), (I3, 2)]</td>\n",
              "    </tr>\n",
              "    <tr>\n",
              "      <th>2</th>\n",
              "      <td>[(I3, 2)]</td>\n",
              "    </tr>\n",
              "    <tr>\n",
              "      <th>I3</th>\n",
              "      <th>1</th>\n",
              "      <td>[(I2, 4)]</td>\n",
              "    </tr>\n",
              "    <tr>\n",
              "      <th>I5</th>\n",
              "      <th>1</th>\n",
              "      <td>[(I2, 2), (I1, 2)]</td>\n",
              "    </tr>\n",
              "    <tr>\n",
              "      <th>I4</th>\n",
              "      <th>1</th>\n",
              "      <td>[(I2, 2)]</td>\n",
              "    </tr>\n",
              "  </tbody>\n",
              "</table>\n",
              "</div>"
            ],
            "text/plain": [
              "                          path\n",
              "item p_num                    \n",
              "I1   1      [(I2, 4), (I3, 2)]\n",
              "     2               [(I3, 2)]\n",
              "I3   1               [(I2, 4)]\n",
              "I5   1      [(I2, 2), (I1, 2)]\n",
              "I4   1               [(I2, 2)]"
            ]
          },
          "metadata": {
            "tags": []
          },
          "execution_count": 10
        }
      ]
    },
    {
      "cell_type": "code",
      "metadata": {
        "colab": {
          "base_uri": "https://localhost:8080/",
          "height": 349
        },
        "id": "WQJtYSmWlCRS",
        "outputId": "120b7db0-a7f7-4484-b797-3cde84469a3d"
      },
      "source": [
        "print('Frequent patterns')\n",
        "df3"
      ],
      "execution_count": null,
      "outputs": [
        {
          "output_type": "stream",
          "text": [
            "Frequent patterns\n"
          ],
          "name": "stdout"
        },
        {
          "output_type": "execute_result",
          "data": {
            "text/html": [
              "<div>\n",
              "<style scoped>\n",
              "    .dataframe tbody tr th:only-of-type {\n",
              "        vertical-align: middle;\n",
              "    }\n",
              "\n",
              "    .dataframe tbody tr th {\n",
              "        vertical-align: top;\n",
              "    }\n",
              "\n",
              "    .dataframe thead th {\n",
              "        text-align: right;\n",
              "    }\n",
              "</style>\n",
              "<table border=\"1\" class=\"dataframe\">\n",
              "  <thead>\n",
              "    <tr style=\"text-align: right;\">\n",
              "      <th></th>\n",
              "      <th></th>\n",
              "      <th>frequent pattern</th>\n",
              "      <th>support count</th>\n",
              "    </tr>\n",
              "    <tr>\n",
              "      <th>item</th>\n",
              "      <th>p_num</th>\n",
              "      <th></th>\n",
              "      <th></th>\n",
              "    </tr>\n",
              "  </thead>\n",
              "  <tbody>\n",
              "    <tr>\n",
              "      <th rowspan=\"3\" valign=\"top\">I1</th>\n",
              "      <th>1</th>\n",
              "      <td>[I2, I1]</td>\n",
              "      <td>4</td>\n",
              "    </tr>\n",
              "    <tr>\n",
              "      <th>2</th>\n",
              "      <td>[I3, I1]</td>\n",
              "      <td>4</td>\n",
              "    </tr>\n",
              "    <tr>\n",
              "      <th>3</th>\n",
              "      <td>[I2, I3, I1]</td>\n",
              "      <td>2</td>\n",
              "    </tr>\n",
              "    <tr>\n",
              "      <th>I3</th>\n",
              "      <th>1</th>\n",
              "      <td>[I2, I3]</td>\n",
              "      <td>4</td>\n",
              "    </tr>\n",
              "    <tr>\n",
              "      <th rowspan=\"3\" valign=\"top\">I5</th>\n",
              "      <th>1</th>\n",
              "      <td>[I2, I5]</td>\n",
              "      <td>2</td>\n",
              "    </tr>\n",
              "    <tr>\n",
              "      <th>2</th>\n",
              "      <td>[I1, I5]</td>\n",
              "      <td>2</td>\n",
              "    </tr>\n",
              "    <tr>\n",
              "      <th>3</th>\n",
              "      <td>[I2, I1, I5]</td>\n",
              "      <td>2</td>\n",
              "    </tr>\n",
              "    <tr>\n",
              "      <th>I4</th>\n",
              "      <th>1</th>\n",
              "      <td>[I2, I4]</td>\n",
              "      <td>2</td>\n",
              "    </tr>\n",
              "  </tbody>\n",
              "</table>\n",
              "</div>"
            ],
            "text/plain": [
              "           frequent pattern  support count\n",
              "item p_num                                \n",
              "I1   1             [I2, I1]              4\n",
              "     2             [I3, I1]              4\n",
              "     3         [I2, I3, I1]              2\n",
              "I3   1             [I2, I3]              4\n",
              "I5   1             [I2, I5]              2\n",
              "     2             [I1, I5]              2\n",
              "     3         [I2, I1, I5]              2\n",
              "I4   1             [I2, I4]              2"
            ]
          },
          "metadata": {
            "tags": []
          },
          "execution_count": 11
        }
      ]
    },
    {
      "cell_type": "markdown",
      "metadata": {
        "id": "0PJ98QTo64Mb"
      },
      "source": [
        "# Another dataset"
      ]
    },
    {
      "cell_type": "code",
      "metadata": {
        "colab": {
          "base_uri": "https://localhost:8080/",
          "height": 206
        },
        "id": "YHMnjScz65zS",
        "outputId": "2a504c28-41cf-4166-d6ca-7745cf4b8d04"
      },
      "source": [
        "D = pd.read_csv('https://raw.githubusercontent.com/genericSpecimen/college-work/master/data-mining/python/monkey.tsv', sep='\\t')\n",
        "N = len(D)\n",
        "\n",
        "min_sup = 60 # %age\n",
        "min_sup_count = ceil(min_sup / 100 * N)\n",
        "\n",
        "D"
      ],
      "execution_count": null,
      "outputs": [
        {
          "output_type": "execute_result",
          "data": {
            "text/html": [
              "<div>\n",
              "<style scoped>\n",
              "    .dataframe tbody tr th:only-of-type {\n",
              "        vertical-align: middle;\n",
              "    }\n",
              "\n",
              "    .dataframe tbody tr th {\n",
              "        vertical-align: top;\n",
              "    }\n",
              "\n",
              "    .dataframe thead th {\n",
              "        text-align: right;\n",
              "    }\n",
              "</style>\n",
              "<table border=\"1\" class=\"dataframe\">\n",
              "  <thead>\n",
              "    <tr style=\"text-align: right;\">\n",
              "      <th></th>\n",
              "      <th>TID</th>\n",
              "      <th>items_bought</th>\n",
              "    </tr>\n",
              "  </thead>\n",
              "  <tbody>\n",
              "    <tr>\n",
              "      <th>0</th>\n",
              "      <td>T100</td>\n",
              "      <td>M,O,N,K,E,Y</td>\n",
              "    </tr>\n",
              "    <tr>\n",
              "      <th>1</th>\n",
              "      <td>T200</td>\n",
              "      <td>D,O,N,K,E,Y</td>\n",
              "    </tr>\n",
              "    <tr>\n",
              "      <th>2</th>\n",
              "      <td>T300</td>\n",
              "      <td>M,A,K,E</td>\n",
              "    </tr>\n",
              "    <tr>\n",
              "      <th>3</th>\n",
              "      <td>T400</td>\n",
              "      <td>M,U,C,K,Y</td>\n",
              "    </tr>\n",
              "    <tr>\n",
              "      <th>4</th>\n",
              "      <td>T500</td>\n",
              "      <td>C,O,O,K,I,E</td>\n",
              "    </tr>\n",
              "  </tbody>\n",
              "</table>\n",
              "</div>"
            ],
            "text/plain": [
              "    TID items_bought\n",
              "0  T100  M,O,N,K,E,Y\n",
              "1  T200  D,O,N,K,E,Y\n",
              "2  T300      M,A,K,E\n",
              "3  T400    M,U,C,K,Y\n",
              "4  T500  C,O,O,K,I,E"
            ]
          },
          "metadata": {
            "tags": []
          },
          "execution_count": 12
        }
      ]
    },
    {
      "cell_type": "markdown",
      "metadata": {
        "id": "2lTMT66ihT8K"
      },
      "source": [
        "**DERIVING FREQUENT-1 ITEMSETS**"
      ]
    },
    {
      "cell_type": "code",
      "metadata": {
        "colab": {
          "base_uri": "https://localhost:8080/"
        },
        "id": "vfyqKosC7ULI",
        "outputId": "155a25c3-50aa-4901-f970-b5810bac8e41"
      },
      "source": [
        "L = derive_L(D['items_bought'])\n",
        "pprint(L)"
      ],
      "execution_count": null,
      "outputs": [
        {
          "output_type": "stream",
          "text": [
            "OrderedDict([('K', {'node_link': [], 'sc': 5}),\n",
            "             ('E', {'node_link': [], 'sc': 4}),\n",
            "             ('M', {'node_link': [], 'sc': 3}),\n",
            "             ('O', {'node_link': [], 'sc': 3}),\n",
            "             ('Y', {'node_link': [], 'sc': 3})])\n"
          ],
          "name": "stdout"
        }
      ]
    },
    {
      "cell_type": "markdown",
      "metadata": {
        "id": "77VdhJ-chfkC"
      },
      "source": [
        "**GENERATING FP-TREE**"
      ]
    },
    {
      "cell_type": "code",
      "metadata": {
        "colab": {
          "base_uri": "https://localhost:8080/"
        },
        "id": "Nj12Dnuy8hQh",
        "outputId": "6590faf0-3b5c-4f07-b54b-a03843c1a0ac"
      },
      "source": [
        "T = generate_FP_tree(D['items_bought'], L)\n",
        "\n",
        "# (.) denotes parent\n",
        "print_tree(T)"
      ],
      "execution_count": null,
      "outputs": [
        {
          "output_type": "stream",
          "text": [
            "null: 1  \n",
            "K: 5 (null)  \n",
            "E: 4 (K)  M: 1 (K)  \n",
            "M: 2 (E)  Y: 1 (E)  O: 1 (E)  Y: 1 (M)  \n",
            "O: 1 (M)  O: 1 (Y)  \n",
            "Y: 1 (O)  \n"
          ],
          "name": "stdout"
        }
      ]
    },
    {
      "cell_type": "markdown",
      "metadata": {
        "id": "BV9-Q6O0hkjY"
      },
      "source": [
        "**MINING FP-TREE**"
      ]
    },
    {
      "cell_type": "code",
      "metadata": {
        "id": "u3wjhqMB9naZ"
      },
      "source": [
        "df1, df2, df3 = mine_FP_tree(L, T, min_sup_count)"
      ],
      "execution_count": null,
      "outputs": []
    },
    {
      "cell_type": "code",
      "metadata": {
        "id": "47IdlOQM-Ghh",
        "colab": {
          "base_uri": "https://localhost:8080/",
          "height": 363
        },
        "outputId": "76b48a04-36b5-4f45-f34f-acc8c5f016cc"
      },
      "source": [
        "df1"
      ],
      "execution_count": null,
      "outputs": [
        {
          "output_type": "execute_result",
          "data": {
            "text/html": [
              "<div>\n",
              "<style scoped>\n",
              "    .dataframe tbody tr th:only-of-type {\n",
              "        vertical-align: middle;\n",
              "    }\n",
              "\n",
              "    .dataframe tbody tr th {\n",
              "        vertical-align: top;\n",
              "    }\n",
              "\n",
              "    .dataframe thead th {\n",
              "        text-align: right;\n",
              "    }\n",
              "</style>\n",
              "<table border=\"1\" class=\"dataframe\">\n",
              "  <thead>\n",
              "    <tr style=\"text-align: right;\">\n",
              "      <th></th>\n",
              "      <th></th>\n",
              "      <th>pattern</th>\n",
              "      <th>sc</th>\n",
              "    </tr>\n",
              "    <tr>\n",
              "      <th>item</th>\n",
              "      <th>p_num</th>\n",
              "      <th></th>\n",
              "      <th></th>\n",
              "    </tr>\n",
              "  </thead>\n",
              "  <tbody>\n",
              "    <tr>\n",
              "      <th>E</th>\n",
              "      <th>1</th>\n",
              "      <td>[K]</td>\n",
              "      <td>4</td>\n",
              "    </tr>\n",
              "    <tr>\n",
              "      <th rowspan=\"2\" valign=\"top\">M</th>\n",
              "      <th>1</th>\n",
              "      <td>[K, E]</td>\n",
              "      <td>2</td>\n",
              "    </tr>\n",
              "    <tr>\n",
              "      <th>2</th>\n",
              "      <td>[K]</td>\n",
              "      <td>1</td>\n",
              "    </tr>\n",
              "    <tr>\n",
              "      <th rowspan=\"3\" valign=\"top\">O</th>\n",
              "      <th>1</th>\n",
              "      <td>[K, E, M]</td>\n",
              "      <td>1</td>\n",
              "    </tr>\n",
              "    <tr>\n",
              "      <th>2</th>\n",
              "      <td>[K, E, Y]</td>\n",
              "      <td>1</td>\n",
              "    </tr>\n",
              "    <tr>\n",
              "      <th>3</th>\n",
              "      <td>[K, E]</td>\n",
              "      <td>1</td>\n",
              "    </tr>\n",
              "    <tr>\n",
              "      <th rowspan=\"3\" valign=\"top\">Y</th>\n",
              "      <th>1</th>\n",
              "      <td>[K, E, M, O]</td>\n",
              "      <td>1</td>\n",
              "    </tr>\n",
              "    <tr>\n",
              "      <th>2</th>\n",
              "      <td>[K, E]</td>\n",
              "      <td>1</td>\n",
              "    </tr>\n",
              "    <tr>\n",
              "      <th>3</th>\n",
              "      <td>[K, M]</td>\n",
              "      <td>1</td>\n",
              "    </tr>\n",
              "  </tbody>\n",
              "</table>\n",
              "</div>"
            ],
            "text/plain": [
              "                 pattern  sc\n",
              "item p_num                  \n",
              "E    1               [K]   4\n",
              "M    1            [K, E]   2\n",
              "     2               [K]   1\n",
              "O    1         [K, E, M]   1\n",
              "     2         [K, E, Y]   1\n",
              "     3            [K, E]   1\n",
              "Y    1      [K, E, M, O]   1\n",
              "     2            [K, E]   1\n",
              "     3            [K, M]   1"
            ]
          },
          "metadata": {
            "tags": []
          },
          "execution_count": 16
        }
      ]
    },
    {
      "cell_type": "code",
      "metadata": {
        "colab": {
          "base_uri": "https://localhost:8080/",
          "height": 206
        },
        "id": "oHtQlmeFqSlv",
        "outputId": "4fdd1e23-020a-476c-aef3-c3a40e954599"
      },
      "source": [
        "df2"
      ],
      "execution_count": null,
      "outputs": [
        {
          "output_type": "execute_result",
          "data": {
            "text/html": [
              "<div>\n",
              "<style scoped>\n",
              "    .dataframe tbody tr th:only-of-type {\n",
              "        vertical-align: middle;\n",
              "    }\n",
              "\n",
              "    .dataframe tbody tr th {\n",
              "        vertical-align: top;\n",
              "    }\n",
              "\n",
              "    .dataframe thead th {\n",
              "        text-align: right;\n",
              "    }\n",
              "</style>\n",
              "<table border=\"1\" class=\"dataframe\">\n",
              "  <thead>\n",
              "    <tr style=\"text-align: right;\">\n",
              "      <th></th>\n",
              "      <th></th>\n",
              "      <th>path</th>\n",
              "    </tr>\n",
              "    <tr>\n",
              "      <th>item</th>\n",
              "      <th>p_num</th>\n",
              "      <th></th>\n",
              "    </tr>\n",
              "  </thead>\n",
              "  <tbody>\n",
              "    <tr>\n",
              "      <th>E</th>\n",
              "      <th>1</th>\n",
              "      <td>[(K, 4)]</td>\n",
              "    </tr>\n",
              "    <tr>\n",
              "      <th>M</th>\n",
              "      <th>1</th>\n",
              "      <td>[(K, 3)]</td>\n",
              "    </tr>\n",
              "    <tr>\n",
              "      <th>O</th>\n",
              "      <th>1</th>\n",
              "      <td>[(K, 3), (E, 3)]</td>\n",
              "    </tr>\n",
              "    <tr>\n",
              "      <th>Y</th>\n",
              "      <th>1</th>\n",
              "      <td>[(K, 3)]</td>\n",
              "    </tr>\n",
              "  </tbody>\n",
              "</table>\n",
              "</div>"
            ],
            "text/plain": [
              "                        path\n",
              "item p_num                  \n",
              "E    1              [(K, 4)]\n",
              "M    1              [(K, 3)]\n",
              "O    1      [(K, 3), (E, 3)]\n",
              "Y    1              [(K, 3)]"
            ]
          },
          "metadata": {
            "tags": []
          },
          "execution_count": 17
        }
      ]
    },
    {
      "cell_type": "code",
      "metadata": {
        "colab": {
          "base_uri": "https://localhost:8080/",
          "height": 269
        },
        "id": "ymKzNKnjqUIK",
        "outputId": "fb915707-bb9c-481d-d92f-1b277d09d2c4"
      },
      "source": [
        "df3"
      ],
      "execution_count": null,
      "outputs": [
        {
          "output_type": "execute_result",
          "data": {
            "text/html": [
              "<div>\n",
              "<style scoped>\n",
              "    .dataframe tbody tr th:only-of-type {\n",
              "        vertical-align: middle;\n",
              "    }\n",
              "\n",
              "    .dataframe tbody tr th {\n",
              "        vertical-align: top;\n",
              "    }\n",
              "\n",
              "    .dataframe thead th {\n",
              "        text-align: right;\n",
              "    }\n",
              "</style>\n",
              "<table border=\"1\" class=\"dataframe\">\n",
              "  <thead>\n",
              "    <tr style=\"text-align: right;\">\n",
              "      <th></th>\n",
              "      <th></th>\n",
              "      <th>frequent pattern</th>\n",
              "      <th>support count</th>\n",
              "    </tr>\n",
              "    <tr>\n",
              "      <th>item</th>\n",
              "      <th>p_num</th>\n",
              "      <th></th>\n",
              "      <th></th>\n",
              "    </tr>\n",
              "  </thead>\n",
              "  <tbody>\n",
              "    <tr>\n",
              "      <th>E</th>\n",
              "      <th>1</th>\n",
              "      <td>[K, E]</td>\n",
              "      <td>4</td>\n",
              "    </tr>\n",
              "    <tr>\n",
              "      <th>M</th>\n",
              "      <th>1</th>\n",
              "      <td>[K, M]</td>\n",
              "      <td>3</td>\n",
              "    </tr>\n",
              "    <tr>\n",
              "      <th rowspan=\"3\" valign=\"top\">O</th>\n",
              "      <th>1</th>\n",
              "      <td>[K, O]</td>\n",
              "      <td>3</td>\n",
              "    </tr>\n",
              "    <tr>\n",
              "      <th>2</th>\n",
              "      <td>[E, O]</td>\n",
              "      <td>3</td>\n",
              "    </tr>\n",
              "    <tr>\n",
              "      <th>3</th>\n",
              "      <td>[K, E, O]</td>\n",
              "      <td>3</td>\n",
              "    </tr>\n",
              "    <tr>\n",
              "      <th>Y</th>\n",
              "      <th>1</th>\n",
              "      <td>[K, Y]</td>\n",
              "      <td>3</td>\n",
              "    </tr>\n",
              "  </tbody>\n",
              "</table>\n",
              "</div>"
            ],
            "text/plain": [
              "           frequent pattern  support count\n",
              "item p_num                                \n",
              "E    1               [K, E]              4\n",
              "M    1               [K, M]              3\n",
              "O    1               [K, O]              3\n",
              "     2               [E, O]              3\n",
              "     3            [K, E, O]              3\n",
              "Y    1               [K, Y]              3"
            ]
          },
          "metadata": {
            "tags": []
          },
          "execution_count": 18
        }
      ]
    },
    {
      "cell_type": "code",
      "metadata": {
        "id": "G27IEwUNqU4F"
      },
      "source": [
        ""
      ],
      "execution_count": null,
      "outputs": []
    }
  ]
}